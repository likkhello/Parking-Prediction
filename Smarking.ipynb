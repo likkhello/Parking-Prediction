{
 "metadata": {
  "name": ""
 },
 "nbformat": 3,
 "nbformat_minor": 0,
 "worksheets": [
  {
   "cells": [
    {
     "cell_type": "code",
     "collapsed": false,
     "input": [
      "import pandas as pd\n",
      "from datetime import datetime, timedelta\n",
      "\n",
      "data_df = pd.read_csv('transactions.csv')\n",
      "# data_df = pd.read_csv('test.csv')\n",
      "# Null check\n",
      "data_df.describe"
     ],
     "language": "python",
     "metadata": {},
     "outputs": [
      {
       "metadata": {},
       "output_type": "pyout",
       "prompt_number": 74,
       "text": [
        "<bound method DataFrame.describe of <class 'pandas.core.frame.DataFrame'>\n",
        "Int64Index: 1647741 entries, 0 to 1647740\n",
        "Data columns (total 2 columns):\n",
        "entry_time    1647741  non-null values\n",
        "exit_time     1647741  non-null values\n",
        "dtypes: object(2)>"
       ]
      }
     ],
     "prompt_number": 74
    },
    {
     "cell_type": "code",
     "collapsed": false,
     "input": [
      "entry = pd.to_datetime(data_df['entry_time'])\n",
      "exit = pd.to_datetime(data_df['exit_time'])\n",
      "n = len(data_df)\n",
      "\n",
      "# Bad data. entry time is later than exit time \n",
      "\n",
      "# 39147 2013-05-23 04:54:00 2013-05-23 01:29:00\n",
      "# 76712 2013-10-03 04:56:00 2013-10-03 00:07:00\n",
      "# 80339 2013-10-16 04:52:00 2013-10-16 00:18:00\n",
      "# 401072 2014-05-29 04:56:00 2014-05-29 02:49:00\n",
      "# 545688 2014-08-12 04:55:00 2014-08-12 02:27:00\n",
      "# 764117 2014-11-23 04:58:00 2014-11-23 02:52:00\n",
      "# 1222079 2015-07-05 04:57:00 2015-07-05 00:37:00\n",
      "# 1492016 2015-11-05 04:57:00 2015-11-05 01:35:00\n",
      "# 1525344 2015-11-20 04:50:00 2015-11-20 00:27:00\n",
      "# 1527518 2015-11-21 04:57:00 2015-11-21 01:14:00\n",
      "# 1543517 2015-12-03 04:59:00 2015-12-03 03:20:00\n",
      "# 1546686 2015-12-04 04:59:00 2015-12-04 01:43:00\n",
      "# 1558642 2015-12-10 04:53:00 2015-12-10 02:04:00\n",
      "# 1617591 2016-01-16 04:59:00 2016-01-16 04:22:00\n",
      "def entry_time_lt_exit_time():\n",
      "    for i in range(n):\n",
      "        if entry[i] > exit[i]:\n",
      "            print i, entry[i], exit[i]\n",
      "# entry_time_lt_exit_time()"
     ],
     "language": "python",
     "metadata": {},
     "outputs": [],
     "prompt_number": 75
    },
    {
     "cell_type": "code",
     "collapsed": false,
     "input": [
      "hourly_data = dict()\n",
      "\n",
      "for i in range(n):\n",
      "    if entry[i] > exit[i]:\n",
      "        continue\n",
      "    else:\n",
      "        while entry[i].date() < exit[i].date() or entry[i].hour < exit[i].hour:\n",
      "            hourly_data[entry[i].date()] = hourly_data.get(entry[i].date(), [0] * 24)\n",
      "            hourly_data[entry[i].date()][entry[i].hour] = hourly_data[entry[i].date()][entry[i].hour] + 1\n",
      "            entry[i] += timedelta(hours=1)\n",
      "        hourly_data[exit[i].date()] = hourly_data.get(exit[i].date(), [0] * 24)\n",
      "        hourly_data[exit[i].date()][exit[i].hour] = hourly_data[exit[i].date()][exit[i].hour] + 1\n",
      "# print hourly_data\n",
      "    if i % 100000 == 0:\n",
      "        print 1.0 * i / n * 100.0"
     ],
     "language": "python",
     "metadata": {},
     "outputs": [
      {
       "output_type": "stream",
       "stream": "stdout",
       "text": [
        "0.0\n",
        "6.0689149569"
       ]
      },
      {
       "output_type": "stream",
       "stream": "stdout",
       "text": [
        "\n",
        "12.1378299138"
       ]
      },
      {
       "output_type": "stream",
       "stream": "stdout",
       "text": [
        "\n",
        "18.2067448707"
       ]
      },
      {
       "output_type": "stream",
       "stream": "stdout",
       "text": [
        "\n",
        "24.2756598276"
       ]
      },
      {
       "output_type": "stream",
       "stream": "stdout",
       "text": [
        "\n",
        "30.3445747845"
       ]
      },
      {
       "output_type": "stream",
       "stream": "stdout",
       "text": [
        "\n",
        "36.4134897414"
       ]
      },
      {
       "output_type": "stream",
       "stream": "stdout",
       "text": [
        "\n",
        "42.4824046983"
       ]
      },
      {
       "output_type": "stream",
       "stream": "stdout",
       "text": [
        "\n",
        "48.5513196552"
       ]
      },
      {
       "output_type": "stream",
       "stream": "stdout",
       "text": [
        "\n",
        "54.6202346121"
       ]
      },
      {
       "output_type": "stream",
       "stream": "stdout",
       "text": [
        "\n",
        "60.689149569"
       ]
      },
      {
       "output_type": "stream",
       "stream": "stdout",
       "text": [
        "\n",
        "66.7580645259"
       ]
      },
      {
       "output_type": "stream",
       "stream": "stdout",
       "text": [
        "\n",
        "72.8269794828"
       ]
      },
      {
       "output_type": "stream",
       "stream": "stdout",
       "text": [
        "\n",
        "78.8958944397"
       ]
      },
      {
       "output_type": "stream",
       "stream": "stdout",
       "text": [
        "\n",
        "84.9648093966"
       ]
      },
      {
       "output_type": "stream",
       "stream": "stdout",
       "text": [
        "\n",
        "91.0337243535"
       ]
      },
      {
       "output_type": "stream",
       "stream": "stdout",
       "text": [
        "\n",
        "97.1026393104"
       ]
      },
      {
       "output_type": "stream",
       "stream": "stdout",
       "text": [
        "\n"
       ]
      }
     ],
     "prompt_number": 76
    },
    {
     "cell_type": "code",
     "collapsed": false,
     "input": [
      "hourly_data = dict((str(key), value) for (key, value) in hourly_data.items())\n",
      "# hourly_data"
     ],
     "language": "python",
     "metadata": {},
     "outputs": [],
     "prompt_number": 77
    },
    {
     "cell_type": "code",
     "collapsed": false,
     "input": [
      "import json\n",
      "with open('hourly.json', 'w') as fp:\n",
      "    json.dump(hourly_data, fp)"
     ],
     "language": "python",
     "metadata": {},
     "outputs": [],
     "prompt_number": 78
    }
   ],
   "metadata": {}
  }
 ]
}